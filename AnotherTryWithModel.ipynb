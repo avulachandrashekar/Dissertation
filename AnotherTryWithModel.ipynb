{
 "cells": [
  {
   "cell_type": "code",
   "execution_count": 1,
   "id": "5ea18435",
   "metadata": {},
   "outputs": [
    {
     "name": "stderr",
     "output_type": "stream",
     "text": [
      "2023-08-01 22:04:07.635863: I tensorflow/core/platform/cpu_feature_guard.cc:193] This TensorFlow binary is optimized with oneAPI Deep Neural Network Library (oneDNN) to use the following CPU instructions in performance-critical operations:  AVX2 FMA\n",
      "To enable them in other operations, rebuild TensorFlow with the appropriate compiler flags.\n"
     ]
    }
   ],
   "source": [
    "import pandas as pd\n",
    "import matplotlib as mpl\n",
    "import matplotlib.pyplot as plt\n",
    "import numpy as np\n",
    "import seaborn as sns\n",
    "import warnings\n",
    "import tensorflow as tf\n",
    "from keras.models import Sequential\n",
    "from keras.layers import LSTM, Dropout\n",
    "from keras.layers import Dense\n",
    "\n",
    "from sklearn.model_selection import train_test_split\n",
    "from keras.preprocessing.sequence import TimeseriesGenerator\n",
    "from sklearn.preprocessing import MinMaxScaler, StandardScaler\n",
    "\n",
    "warnings.filterwarnings('ignore')\n",
    "\n",
    "mpl.rcParams['figure.figsize'] = [12, 8]\n",
    "mpl.rcParams['axes.grid'] = False\n",
    "sns.set(style=\"whitegrid\", font_scale=1.5)\n",
    "\n",
    "df_GDP = pd.read_csv('./dataset/GDPC1.csv')\n",
    "df_UNEMP = pd.read_csv('./dataset/UNEMP.csv')\n",
    "df_FEDINTRate = pd.read_csv('./dataset/FedFundEffectiveRate.csv')\n",
    "df_INF = pd.read_csv('./dataset/INFLATION.csv')\n",
    "df_AAABondYield = pd.read_csv('./dataset/MoodyAaaCorporateBondYield.csv')\n",
    "df_FEDDebt = pd.read_csv('./dataset/FEDDEBT.csv')\n",
    "df_3MTBills = pd.read_csv('./dataset/3MTBill.csv')\n",
    "df_SP500 = pd.read_csv('./dataset/SP500_1.csv')\n",
    "\n",
    "def set_date_index(dataframe, col = \"DATE\"):\n",
    "    dataframe[col] = pd.to_datetime(dataframe[col])\n",
    "    \n",
    "def set_to_numeric(dataframe, col):\n",
    "    dataframe[col] = pd.to_numeric(dataframe[col])\n",
    "\n",
    "def merge_datasets(features, target):\n",
    "    for feature in features:\n",
    "        target = target.merge(feature, how='left', on='DATE')\n",
    "    return target"
   ]
  },
  {
   "cell_type": "code",
   "execution_count": 2,
   "id": "bf3c6502",
   "metadata": {},
   "outputs": [
    {
     "data": {
      "text/html": [
       "<div>\n",
       "<style scoped>\n",
       "    .dataframe tbody tr th:only-of-type {\n",
       "        vertical-align: middle;\n",
       "    }\n",
       "\n",
       "    .dataframe tbody tr th {\n",
       "        vertical-align: top;\n",
       "    }\n",
       "\n",
       "    .dataframe thead th {\n",
       "        text-align: right;\n",
       "    }\n",
       "</style>\n",
       "<table border=\"1\" class=\"dataframe\">\n",
       "  <thead>\n",
       "    <tr style=\"text-align: right;\">\n",
       "      <th></th>\n",
       "      <th>Open</th>\n",
       "      <th>High</th>\n",
       "      <th>Low</th>\n",
       "      <th>Close</th>\n",
       "    </tr>\n",
       "  </thead>\n",
       "  <tbody>\n",
       "    <tr>\n",
       "      <th>count</th>\n",
       "      <td>5930.000000</td>\n",
       "      <td>5930.000000</td>\n",
       "      <td>5930.000000</td>\n",
       "      <td>5930.000000</td>\n",
       "    </tr>\n",
       "    <tr>\n",
       "      <th>mean</th>\n",
       "      <td>1928.514442</td>\n",
       "      <td>1940.043705</td>\n",
       "      <td>1916.199410</td>\n",
       "      <td>1928.831295</td>\n",
       "    </tr>\n",
       "    <tr>\n",
       "      <th>std</th>\n",
       "      <td>1016.264475</td>\n",
       "      <td>1021.531037</td>\n",
       "      <td>1010.712063</td>\n",
       "      <td>1016.514364</td>\n",
       "    </tr>\n",
       "    <tr>\n",
       "      <th>min</th>\n",
       "      <td>675.130000</td>\n",
       "      <td>695.270000</td>\n",
       "      <td>666.790000</td>\n",
       "      <td>676.530000</td>\n",
       "    </tr>\n",
       "    <tr>\n",
       "      <th>25%</th>\n",
       "      <td>1188.287500</td>\n",
       "      <td>1195.407500</td>\n",
       "      <td>1180.982500</td>\n",
       "      <td>1188.820000</td>\n",
       "    </tr>\n",
       "    <tr>\n",
       "      <th>50%</th>\n",
       "      <td>1447.055000</td>\n",
       "      <td>1456.755000</td>\n",
       "      <td>1436.335000</td>\n",
       "      <td>1447.135000</td>\n",
       "    </tr>\n",
       "    <tr>\n",
       "      <th>75%</th>\n",
       "      <td>2469.005000</td>\n",
       "      <td>2477.875000</td>\n",
       "      <td>2460.207500</td>\n",
       "      <td>2471.987500</td>\n",
       "    </tr>\n",
       "    <tr>\n",
       "      <th>max</th>\n",
       "      <td>4804.510000</td>\n",
       "      <td>4818.620000</td>\n",
       "      <td>4780.040000</td>\n",
       "      <td>4796.560000</td>\n",
       "    </tr>\n",
       "  </tbody>\n",
       "</table>\n",
       "</div>"
      ],
      "text/plain": [
       "              Open         High          Low        Close\n",
       "count  5930.000000  5930.000000  5930.000000  5930.000000\n",
       "mean   1928.514442  1940.043705  1916.199410  1928.831295\n",
       "std    1016.264475  1021.531037  1010.712063  1016.514364\n",
       "min     675.130000   695.270000   666.790000   676.530000\n",
       "25%    1188.287500  1195.407500  1180.982500  1188.820000\n",
       "50%    1447.055000  1456.755000  1436.335000  1447.135000\n",
       "75%    2469.005000  2477.875000  2460.207500  2471.987500\n",
       "max    4804.510000  4818.620000  4780.040000  4796.560000"
      ]
     },
     "execution_count": 2,
     "metadata": {},
     "output_type": "execute_result"
    }
   ],
   "source": [
    "df_SP500.describe()"
   ]
  },
  {
   "cell_type": "code",
   "execution_count": 3,
   "id": "8b199461",
   "metadata": {},
   "outputs": [],
   "source": [
    "df_SP500.rename(columns={'Date' : 'DATE', ' Close': 'Close'}, inplace=True)\n",
    "df_SP500.drop(columns=[' Open', ' High', ' Low'], inplace=True)\n",
    "set_date_index(df_SP500)"
   ]
  },
  {
   "cell_type": "code",
   "execution_count": 4,
   "id": "48302426",
   "metadata": {},
   "outputs": [],
   "source": [
    "features = [df_GDP, df_UNEMP, df_FEDINTRate, df_INF, df_AAABondYield, df_FEDDebt, df_3MTBills]\n",
    "#setting date column as index index\n",
    "for df in features:\n",
    "    set_date_index(df)"
   ]
  },
  {
   "cell_type": "code",
   "execution_count": 5,
   "id": "b8972f06",
   "metadata": {},
   "outputs": [],
   "source": [
    "#df_AAABondYield\n",
    "df_AAABondYield['DAAA'].replace(\".\", method='ffill', inplace=True )\n",
    "df_AAABondYield.rename(columns={'DAAA' : 'BOND_YIELD'}, inplace=True)\n",
    "set_to_numeric(df_AAABondYield, 'BOND_YIELD')"
   ]
  },
  {
   "cell_type": "code",
   "execution_count": 6,
   "id": "053cb6b1",
   "metadata": {},
   "outputs": [],
   "source": [
    "df_INF['T10YIE'].replace(\".\", method='ffill', inplace=True )\n",
    "df_INF.rename(columns={'T10YIE' : 'INF'}, inplace=True)\n",
    "set_to_numeric(df_INF, 'INF')"
   ]
  },
  {
   "cell_type": "code",
   "execution_count": 7,
   "id": "31b12c39",
   "metadata": {},
   "outputs": [],
   "source": [
    "df_3MTBills['DTB3'].replace(\".\", method='ffill', inplace=True )\n",
    "df_3MTBills.rename(columns={'DTB3' : '3M_TBILLS'}, inplace=True)\n",
    "set_to_numeric(df_3MTBills, '3M_TBILLS')"
   ]
  },
  {
   "cell_type": "code",
   "execution_count": 8,
   "id": "0d96053f",
   "metadata": {},
   "outputs": [],
   "source": [
    "#df_gdp\n",
    "df_GDP.rename(columns={'GDPC1' : 'GDP'}, inplace = True)\n",
    "set_to_numeric(df_GDP, 'GDP')"
   ]
  },
  {
   "cell_type": "code",
   "execution_count": 9,
   "id": "d8469edf",
   "metadata": {},
   "outputs": [],
   "source": [
    "#df_unemployment\n",
    "df_UNEMP.rename(columns={'UNRATE' : 'UNEMP_RATE'}, inplace=True)\n",
    "set_to_numeric(df_UNEMP, 'UNEMP_RATE')"
   ]
  },
  {
   "cell_type": "code",
   "execution_count": 10,
   "id": "736351fa",
   "metadata": {},
   "outputs": [],
   "source": [
    "#df_fedInterestRate\n",
    "df_FEDINTRate.rename(columns={'DFF' : 'INT_RATE'}, inplace=True)\n",
    "set_to_numeric(df_FEDINTRate, 'INT_RATE')"
   ]
  },
  {
   "cell_type": "code",
   "execution_count": 11,
   "id": "4ef544e9",
   "metadata": {},
   "outputs": [],
   "source": [
    "#df_fedDebt\n",
    "df_FEDDebt.rename(columns={'GFDEBTN' : 'GOVT_DEBT'}, inplace=True)\n",
    "set_to_numeric(df_FEDDebt, 'GOVT_DEBT')"
   ]
  },
  {
   "cell_type": "code",
   "execution_count": 12,
   "id": "eec9bf91",
   "metadata": {},
   "outputs": [],
   "source": [
    "dataset_input = merge_datasets(features, df_SP500)"
   ]
  },
  {
   "cell_type": "code",
   "execution_count": 13,
   "id": "be116cd2",
   "metadata": {},
   "outputs": [],
   "source": [
    "dataset_input.fillna(method='ffill', inplace=True)"
   ]
  },
  {
   "cell_type": "code",
   "execution_count": 14,
   "id": "0134c442",
   "metadata": {},
   "outputs": [
    {
     "data": {
      "text/plain": [
       "DATE            0\n",
       "Close           0\n",
       "GDP           269\n",
       "UNEMP_RATE     39\n",
       "INT_RATE        4\n",
       "INF             3\n",
       "BOND_YIELD      4\n",
       "GOVT_DEBT     269\n",
       "3M_TBILLS       4\n",
       "dtype: int64"
      ]
     },
     "execution_count": 14,
     "metadata": {},
     "output_type": "execute_result"
    }
   ],
   "source": [
    "dataset_input.isna().sum()"
   ]
  },
  {
   "cell_type": "code",
   "execution_count": 15,
   "id": "bab5614e",
   "metadata": {},
   "outputs": [],
   "source": [
    "dataset_input.dropna(inplace=True)"
   ]
  },
  {
   "cell_type": "code",
   "execution_count": 16,
   "id": "449161c3",
   "metadata": {},
   "outputs": [
    {
     "data": {
      "text/html": [
       "<div>\n",
       "<style scoped>\n",
       "    .dataframe tbody tr th:only-of-type {\n",
       "        vertical-align: middle;\n",
       "    }\n",
       "\n",
       "    .dataframe tbody tr th {\n",
       "        vertical-align: top;\n",
       "    }\n",
       "\n",
       "    .dataframe thead th {\n",
       "        text-align: right;\n",
       "    }\n",
       "</style>\n",
       "<table border=\"1\" class=\"dataframe\">\n",
       "  <thead>\n",
       "    <tr style=\"text-align: right;\">\n",
       "      <th></th>\n",
       "      <th>Close</th>\n",
       "      <th>GDP</th>\n",
       "      <th>UNEMP_RATE</th>\n",
       "      <th>INT_RATE</th>\n",
       "      <th>INF</th>\n",
       "      <th>BOND_YIELD</th>\n",
       "      <th>GOVT_DEBT</th>\n",
       "      <th>3M_TBILLS</th>\n",
       "    </tr>\n",
       "  </thead>\n",
       "  <tbody>\n",
       "    <tr>\n",
       "      <th>count</th>\n",
       "      <td>5661.000000</td>\n",
       "      <td>5661.000000</td>\n",
       "      <td>5661.000000</td>\n",
       "      <td>5661.000000</td>\n",
       "      <td>5661.000000</td>\n",
       "      <td>5661.000000</td>\n",
       "      <td>5.661000e+03</td>\n",
       "      <td>5661.000000</td>\n",
       "    </tr>\n",
       "    <tr>\n",
       "      <th>mean</th>\n",
       "      <td>1828.303310</td>\n",
       "      <td>16390.813809</td>\n",
       "      <td>6.062939</td>\n",
       "      <td>1.616169</td>\n",
       "      <td>2.008467</td>\n",
       "      <td>4.757009</td>\n",
       "      <td>1.522037e+07</td>\n",
       "      <td>1.481203</td>\n",
       "    </tr>\n",
       "    <tr>\n",
       "      <th>std</th>\n",
       "      <td>925.935974</td>\n",
       "      <td>1961.268688</td>\n",
       "      <td>2.203219</td>\n",
       "      <td>1.875895</td>\n",
       "      <td>0.414319</td>\n",
       "      <td>1.333459</td>\n",
       "      <td>7.362522e+06</td>\n",
       "      <td>1.730611</td>\n",
       "    </tr>\n",
       "    <tr>\n",
       "      <th>min</th>\n",
       "      <td>676.530000</td>\n",
       "      <td>13284.881000</td>\n",
       "      <td>3.500000</td>\n",
       "      <td>0.040000</td>\n",
       "      <td>0.040000</td>\n",
       "      <td>2.010000</td>\n",
       "      <td>5.943439e+06</td>\n",
       "      <td>-0.050000</td>\n",
       "    </tr>\n",
       "    <tr>\n",
       "      <th>25%</th>\n",
       "      <td>1178.840000</td>\n",
       "      <td>15161.772000</td>\n",
       "      <td>4.500000</td>\n",
       "      <td>0.130000</td>\n",
       "      <td>1.640000</td>\n",
       "      <td>3.780000</td>\n",
       "      <td>9.229172e+06</td>\n",
       "      <td>0.090000</td>\n",
       "    </tr>\n",
       "    <tr>\n",
       "      <th>50%</th>\n",
       "      <td>1418.260000</td>\n",
       "      <td>15876.839000</td>\n",
       "      <td>5.400000</td>\n",
       "      <td>0.990000</td>\n",
       "      <td>2.060000</td>\n",
       "      <td>4.750000</td>\n",
       "      <td>1.479034e+07</td>\n",
       "      <td>0.920000</td>\n",
       "    </tr>\n",
       "    <tr>\n",
       "      <th>75%</th>\n",
       "      <td>2186.900000</td>\n",
       "      <td>17724.489000</td>\n",
       "      <td>7.200000</td>\n",
       "      <td>2.310000</td>\n",
       "      <td>2.340000</td>\n",
       "      <td>5.580000</td>\n",
       "      <td>2.197410e+07</td>\n",
       "      <td>2.180000</td>\n",
       "    </tr>\n",
       "    <tr>\n",
       "      <th>max</th>\n",
       "      <td>4796.560000</td>\n",
       "      <td>20054.663000</td>\n",
       "      <td>14.700000</td>\n",
       "      <td>7.030000</td>\n",
       "      <td>3.020000</td>\n",
       "      <td>8.120000</td>\n",
       "      <td>3.092891e+07</td>\n",
       "      <td>6.240000</td>\n",
       "    </tr>\n",
       "  </tbody>\n",
       "</table>\n",
       "</div>"
      ],
      "text/plain": [
       "             Close           GDP   UNEMP_RATE     INT_RATE          INF  \\\n",
       "count  5661.000000   5661.000000  5661.000000  5661.000000  5661.000000   \n",
       "mean   1828.303310  16390.813809     6.062939     1.616169     2.008467   \n",
       "std     925.935974   1961.268688     2.203219     1.875895     0.414319   \n",
       "min     676.530000  13284.881000     3.500000     0.040000     0.040000   \n",
       "25%    1178.840000  15161.772000     4.500000     0.130000     1.640000   \n",
       "50%    1418.260000  15876.839000     5.400000     0.990000     2.060000   \n",
       "75%    2186.900000  17724.489000     7.200000     2.310000     2.340000   \n",
       "max    4796.560000  20054.663000    14.700000     7.030000     3.020000   \n",
       "\n",
       "        BOND_YIELD     GOVT_DEBT    3M_TBILLS  \n",
       "count  5661.000000  5.661000e+03  5661.000000  \n",
       "mean      4.757009  1.522037e+07     1.481203  \n",
       "std       1.333459  7.362522e+06     1.730611  \n",
       "min       2.010000  5.943439e+06    -0.050000  \n",
       "25%       3.780000  9.229172e+06     0.090000  \n",
       "50%       4.750000  1.479034e+07     0.920000  \n",
       "75%       5.580000  2.197410e+07     2.180000  \n",
       "max       8.120000  3.092891e+07     6.240000  "
      ]
     },
     "execution_count": 16,
     "metadata": {},
     "output_type": "execute_result"
    }
   ],
   "source": [
    "dataset_input.describe()"
   ]
  },
  {
   "cell_type": "code",
   "execution_count": 17,
   "id": "91a2d84a",
   "metadata": {},
   "outputs": [],
   "source": [
    "scaler = MinMaxScaler()"
   ]
  },
  {
   "cell_type": "code",
   "execution_count": 18,
   "id": "8ef6afcf",
   "metadata": {},
   "outputs": [],
   "source": [
    "data_scaled = scaler.fit_transform(dataset_input.loc[:, ~dataset_input.columns.isin(['DATE'])])"
   ]
  },
  {
   "cell_type": "code",
   "execution_count": 19,
   "id": "94116b95",
   "metadata": {},
   "outputs": [
    {
     "data": {
      "text/plain": [
       "array([[0.76426628, 1.        , 0.        , ..., 0.36824877, 1.        ,\n",
       "        0.2718601 ],\n",
       "       [0.75456975, 1.        , 0.        , ..., 0.35679214, 1.        ,\n",
       "        0.2718601 ],\n",
       "       [0.76268862, 1.        , 0.        , ..., 0.36006547, 1.        ,\n",
       "        0.28298887],\n",
       "       ...,\n",
       "       [0.17611037, 0.        , 0.05357143, ..., 0.94435352, 0.        ,\n",
       "        0.84737679],\n",
       "       [0.17545746, 0.        , 0.05357143, ..., 0.92962357, 0.        ,\n",
       "        0.84578696],\n",
       "       [0.18900105, 0.        , 0.05357143, ..., 0.93944354, 0.        ,\n",
       "        0.84578696]])"
      ]
     },
     "execution_count": 19,
     "metadata": {},
     "output_type": "execute_result"
    }
   ],
   "source": [
    "data_scaled"
   ]
  },
  {
   "cell_type": "code",
   "execution_count": 20,
   "id": "71ac1797",
   "metadata": {},
   "outputs": [],
   "source": [
    "trainX = []\n",
    "trainY = []\n",
    "\n",
    "n_future = 1\n",
    "n_past = 14\n",
    "\n",
    "for i in range(n_past, len(data_scaled) - n_future + 1):\n",
    "    trainX.append(data_scaled[i - n_past: i, 0: data_scaled.shape[1]])\n",
    "    trainY.append(data_scaled[i + n_future - 1: i + n_future, 0])"
   ]
  },
  {
   "cell_type": "code",
   "execution_count": 23,
   "id": "6506ba76",
   "metadata": {},
   "outputs": [
    {
     "data": {
      "text/plain": [
       "array([[0.75456975, 1.        , 0.        , 0.22031474, 0.76845638,\n",
       "        0.35679214, 1.        , 0.2718601 ],\n",
       "       [0.76268862, 1.        , 0.        , 0.22031474, 0.77852349,\n",
       "        0.36006547, 1.        , 0.28298887],\n",
       "       [0.76334881, 1.        , 0.        , 0.22031474, 0.81879195,\n",
       "        0.37479542, 1.        , 0.28616852],\n",
       "       [0.78241663, 1.        , 0.        , 0.22031474, 0.84228188,\n",
       "        0.37315876, 1.        , 0.28616852],\n",
       "       [0.78523943, 1.        , 0.        , 0.22031474, 0.84563758,\n",
       "        0.36661211, 1.        , 0.2718601 ],\n",
       "       [0.75708187, 1.        , 0.        , 0.22031474, 0.82550336,\n",
       "        0.36006547, 1.        , 0.26073132],\n",
       "       [0.7483829 , 1.        , 0.        , 0.22031474, 0.83892617,\n",
       "        0.36988543, 1.        , 0.25755167],\n",
       "       [0.74957221, 1.        , 0.        , 0.22031474, 0.86241611,\n",
       "        0.39116203, 1.        , 0.2718601 ],\n",
       "       [0.72773985, 1.        , 0.        , 0.22031474, 0.85234899,\n",
       "        0.37806874, 1.        , 0.25914149],\n",
       "       [0.72578112, 1.        , 0.        , 0.22031474, 0.86577181,\n",
       "        0.39279869, 1.        , 0.25278219],\n",
       "       [0.75568867, 1.        , 0.        , 0.1130186 , 0.89261745,\n",
       "        0.38952537, 1.        , 0.27662957],\n",
       "       [0.74245819, 1.        , 0.        , 0.1130186 , 0.8590604 ,\n",
       "        0.40752864, 1.        , 0.290938  ],\n",
       "       [0.74589263, 1.        , 0.        , 0.1130186 , 0.90604027,\n",
       "        0.39770867, 1.        , 0.27662957],\n",
       "       [0.78259867, 1.        , 0.        , 0.1130186 , 0.91275168,\n",
       "        0.35842881, 1.        , 0.22098569]])"
      ]
     },
     "execution_count": 23,
     "metadata": {},
     "output_type": "execute_result"
    }
   ],
   "source": [
    "trainX[1]"
   ]
  },
  {
   "cell_type": "code",
   "execution_count": 22,
   "id": "e1c5fa67",
   "metadata": {},
   "outputs": [
    {
     "data": {
      "text/plain": [
       "array([0.78259867])"
      ]
     },
     "execution_count": 22,
     "metadata": {},
     "output_type": "execute_result"
    }
   ],
   "source": [
    "trainY[0]"
   ]
  },
  {
   "cell_type": "code",
   "execution_count": 23,
   "id": "beffc114",
   "metadata": {},
   "outputs": [],
   "source": [
    "trainX, trainY = np.array(trainX), np.array(trainY)"
   ]
  },
  {
   "cell_type": "code",
   "execution_count": 26,
   "id": "a1bc18cf",
   "metadata": {},
   "outputs": [
    {
     "name": "stdout",
     "output_type": "stream",
     "text": [
      "Model: \"sequential_5\"\n",
      "_________________________________________________________________\n",
      " Layer (type)                Output Shape              Param #   \n",
      "=================================================================\n",
      " lstm_2 (LSTM)               (None, 14, 128)           70144     \n",
      "                                                                 \n",
      " lstm_3 (LSTM)               (None, 14, 128)           131584    \n",
      "                                                                 \n",
      " dropout_1 (Dropout)         (None, 14, 128)           0         \n",
      "                                                                 \n",
      " lstm_4 (LSTM)               (None, 64)                49408     \n",
      "                                                                 \n",
      " dropout_2 (Dropout)         (None, 64)                0         \n",
      "                                                                 \n",
      " dense_1 (Dense)             (None, 1)                 65        \n",
      "                                                                 \n",
      "=================================================================\n",
      "Total params: 251,201\n",
      "Trainable params: 251,201\n",
      "Non-trainable params: 0\n",
      "_________________________________________________________________\n"
     ]
    }
   ],
   "source": [
    "model = Sequential()\n",
    "#model.add(LSTM(64, activation='relu', input_shape=(trainX.shape[1], trainX.shape[2]), return_sequences=True))\n",
    "#model.add(LSTM(64, activation='relu', return_sequences=False))\n",
    "#model.add(Dropout(0.2))\n",
    "#model.add(Dense(trainY.shape[1]))\n",
    "\n",
    "#model.compile(optimizer='adam', loss='mse')\n",
    "#model.summary()\n",
    "\n",
    "model = Sequential()\n",
    "model.add(LSTM(128, activation='relu', input_shape=(trainX.shape[1], trainX.shape[2]), return_sequences=True))\n",
    "model.add(LSTM(128, activation='relu', return_sequences=True))\n",
    "model.add(Dropout(0.3))\n",
    "model.add(LSTM(64, activation='relu', return_sequences=False))\n",
    "model.add(Dropout(0.3))\n",
    "model.add(Dense(1))\n",
    "\n",
    "model.compile(optimizer='adam', loss='mse')\n",
    "model.summary()"
   ]
  },
  {
   "cell_type": "code",
   "execution_count": 27,
   "id": "5f8a3f7e",
   "metadata": {},
   "outputs": [
    {
     "name": "stdout",
     "output_type": "stream",
     "text": [
      "Epoch 1/100\n",
      "142/142 [==============================] - 6s 21ms/step - loss: 0.0127 - val_loss: 0.0014\n",
      "Epoch 2/100\n",
      "142/142 [==============================] - 4s 25ms/step - loss: 0.0036 - val_loss: 0.0016\n",
      "Epoch 3/100\n",
      "142/142 [==============================] - 3s 19ms/step - loss: 0.0031 - val_loss: 7.6771e-04\n",
      "Epoch 4/100\n",
      "142/142 [==============================] - 3s 18ms/step - loss: 0.0030 - val_loss: 8.1883e-04\n",
      "Epoch 5/100\n",
      "142/142 [==============================] - 2s 17ms/step - loss: 0.0025 - val_loss: 0.0017\n",
      "Epoch 6/100\n",
      "142/142 [==============================] - 2s 17ms/step - loss: 0.0020 - val_loss: 0.0015\n",
      "Epoch 7/100\n",
      "142/142 [==============================] - 2s 17ms/step - loss: 0.0021 - val_loss: 9.3775e-04\n",
      "Epoch 8/100\n",
      "142/142 [==============================] - 2s 17ms/step - loss: 0.0017 - val_loss: 0.0013\n",
      "Epoch 9/100\n",
      "142/142 [==============================] - 2s 17ms/step - loss: 0.0017 - val_loss: 8.9102e-04\n",
      "Epoch 10/100\n",
      "142/142 [==============================] - 2s 17ms/step - loss: 0.0015 - val_loss: 8.0791e-04\n",
      "Epoch 11/100\n",
      "142/142 [==============================] - 2s 17ms/step - loss: 0.0015 - val_loss: 7.5112e-04\n",
      "Epoch 12/100\n",
      "142/142 [==============================] - 3s 20ms/step - loss: 0.0015 - val_loss: 5.8211e-04\n",
      "Epoch 13/100\n",
      "142/142 [==============================] - 2s 17ms/step - loss: 0.0016 - val_loss: 6.7274e-04\n",
      "Epoch 14/100\n",
      "142/142 [==============================] - 3s 20ms/step - loss: 0.0013 - val_loss: 0.0013\n",
      "Epoch 15/100\n",
      "142/142 [==============================] - 2s 17ms/step - loss: 0.0012 - val_loss: 4.5595e-04\n",
      "Epoch 16/100\n",
      "142/142 [==============================] - 2s 17ms/step - loss: 0.0014 - val_loss: 3.3456e-04\n",
      "Epoch 17/100\n",
      "142/142 [==============================] - 3s 18ms/step - loss: 0.0014 - val_loss: 6.3458e-04\n",
      "Epoch 18/100\n",
      "142/142 [==============================] - 2s 17ms/step - loss: 0.0013 - val_loss: 5.6272e-04\n",
      "Epoch 19/100\n",
      "142/142 [==============================] - 2s 17ms/step - loss: 0.0012 - val_loss: 4.9728e-04\n",
      "Epoch 20/100\n",
      "142/142 [==============================] - 2s 17ms/step - loss: 0.0012 - val_loss: 6.9245e-04\n",
      "Epoch 21/100\n",
      "142/142 [==============================] - 2s 17ms/step - loss: 0.0011 - val_loss: 3.9786e-04\n",
      "Epoch 22/100\n",
      "142/142 [==============================] - 3s 22ms/step - loss: 0.0012 - val_loss: 6.8333e-04\n",
      "Epoch 23/100\n",
      "142/142 [==============================] - 4s 28ms/step - loss: 0.0012 - val_loss: 4.9838e-04\n",
      "Epoch 24/100\n",
      "142/142 [==============================] - 4s 30ms/step - loss: 0.0011 - val_loss: 3.3668e-04\n",
      "Epoch 25/100\n",
      "142/142 [==============================] - 2s 17ms/step - loss: 0.0012 - val_loss: 0.0011\n",
      "Epoch 26/100\n",
      "142/142 [==============================] - 3s 18ms/step - loss: 0.0011 - val_loss: 3.3375e-04\n",
      "Epoch 27/100\n",
      "142/142 [==============================] - 3s 18ms/step - loss: 0.0011 - val_loss: 5.2514e-04\n",
      "Epoch 28/100\n",
      "142/142 [==============================] - 3s 20ms/step - loss: 0.0011 - val_loss: 2.9898e-04\n",
      "Epoch 29/100\n",
      "142/142 [==============================] - 3s 18ms/step - loss: 0.0011 - val_loss: 5.0168e-04\n",
      "Epoch 30/100\n",
      "142/142 [==============================] - 3s 18ms/step - loss: 0.0012 - val_loss: 5.5653e-04\n",
      "Epoch 31/100\n",
      "142/142 [==============================] - 3s 18ms/step - loss: 0.0012 - val_loss: 4.0664e-04\n",
      "Epoch 32/100\n",
      "142/142 [==============================] - 3s 18ms/step - loss: 0.0011 - val_loss: 2.9859e-04\n",
      "Epoch 33/100\n",
      "142/142 [==============================] - 3s 18ms/step - loss: 0.0011 - val_loss: 3.0328e-04\n",
      "Epoch 34/100\n",
      "142/142 [==============================] - 3s 20ms/step - loss: 0.0011 - val_loss: 4.0958e-04\n",
      "Epoch 35/100\n",
      "142/142 [==============================] - 3s 24ms/step - loss: 0.0010 - val_loss: 6.2876e-04\n",
      "Epoch 36/100\n",
      "142/142 [==============================] - 3s 24ms/step - loss: 0.0011 - val_loss: 4.1232e-04\n",
      "Epoch 37/100\n",
      "142/142 [==============================] - 2s 17ms/step - loss: 0.0010 - val_loss: 3.9933e-04\n",
      "Epoch 38/100\n",
      "142/142 [==============================] - 3s 18ms/step - loss: 0.0010 - val_loss: 3.2827e-04\n",
      "Epoch 39/100\n",
      "142/142 [==============================] - 2s 17ms/step - loss: 0.0012 - val_loss: 2.8833e-04\n",
      "Epoch 40/100\n",
      "142/142 [==============================] - 3s 20ms/step - loss: 0.0011 - val_loss: 3.9733e-04\n",
      "Epoch 41/100\n",
      "142/142 [==============================] - 4s 26ms/step - loss: 0.0010 - val_loss: 2.8896e-04\n",
      "Epoch 42/100\n",
      "142/142 [==============================] - 4s 25ms/step - loss: 0.0012 - val_loss: 6.0115e-04\n",
      "Epoch 43/100\n",
      "142/142 [==============================] - 3s 22ms/step - loss: 0.0011 - val_loss: 4.7659e-04\n",
      "Epoch 44/100\n",
      "142/142 [==============================] - 3s 24ms/step - loss: 0.0010 - val_loss: 3.7359e-04\n",
      "Epoch 45/100\n",
      "142/142 [==============================] - 4s 29ms/step - loss: 0.0012 - val_loss: 3.3603e-04\n",
      "Epoch 46/100\n",
      "142/142 [==============================] - 4s 27ms/step - loss: 9.9825e-04 - val_loss: 3.0404e-04\n",
      "Epoch 47/100\n",
      "142/142 [==============================] - 3s 23ms/step - loss: 0.0012 - val_loss: 2.8142e-04\n",
      "Epoch 48/100\n",
      "142/142 [==============================] - 4s 30ms/step - loss: 0.0011 - val_loss: 5.6959e-04\n",
      "Epoch 49/100\n",
      "142/142 [==============================] - 4s 28ms/step - loss: 0.0011 - val_loss: 3.0520e-04\n",
      "Epoch 50/100\n",
      "142/142 [==============================] - 4s 26ms/step - loss: 0.0011 - val_loss: 4.1346e-04\n",
      "Epoch 51/100\n",
      "142/142 [==============================] - 4s 29ms/step - loss: 0.0010 - val_loss: 4.0974e-04\n",
      "Epoch 52/100\n",
      "142/142 [==============================] - 4s 28ms/step - loss: 0.0010 - val_loss: 3.3708e-04\n",
      "Epoch 53/100\n",
      "142/142 [==============================] - 4s 27ms/step - loss: 0.0010 - val_loss: 6.2116e-04\n",
      "Epoch 54/100\n",
      "142/142 [==============================] - 4s 29ms/step - loss: 0.0010 - val_loss: 4.9241e-04\n",
      "Epoch 55/100\n",
      "142/142 [==============================] - 4s 29ms/step - loss: 9.7152e-04 - val_loss: 5.1847e-04\n",
      "Epoch 56/100\n",
      "142/142 [==============================] - 4s 28ms/step - loss: 0.0011 - val_loss: 3.0985e-04\n",
      "Epoch 57/100\n",
      "142/142 [==============================] - 4s 28ms/step - loss: 0.0011 - val_loss: 3.5278e-04\n",
      "Epoch 58/100\n",
      "142/142 [==============================] - 4s 28ms/step - loss: 0.0010 - val_loss: 3.7103e-04\n",
      "Epoch 59/100\n",
      "142/142 [==============================] - 4s 28ms/step - loss: 0.0010 - val_loss: 3.9355e-04\n",
      "Epoch 60/100\n",
      "142/142 [==============================] - 4s 29ms/step - loss: 0.0011 - val_loss: 5.4262e-04\n",
      "Epoch 61/100\n",
      "142/142 [==============================] - 4s 29ms/step - loss: 0.0011 - val_loss: 2.6394e-04\n",
      "Epoch 62/100\n",
      "142/142 [==============================] - 4s 29ms/step - loss: 0.0011 - val_loss: 4.7095e-04\n",
      "Epoch 63/100\n",
      "142/142 [==============================] - 4s 29ms/step - loss: 0.0011 - val_loss: 3.3538e-04\n",
      "Epoch 64/100\n",
      "142/142 [==============================] - 4s 28ms/step - loss: 0.0011 - val_loss: 4.3561e-04\n",
      "Epoch 65/100\n",
      "142/142 [==============================] - 3s 21ms/step - loss: 0.0011 - val_loss: 2.6327e-04\n",
      "Epoch 66/100\n",
      "142/142 [==============================] - 3s 21ms/step - loss: 0.0011 - val_loss: 5.2895e-04\n",
      "Epoch 67/100\n",
      "142/142 [==============================] - 3s 21ms/step - loss: 0.0010 - val_loss: 2.1316e-04\n",
      "Epoch 68/100\n",
      "142/142 [==============================] - 3s 21ms/step - loss: 0.0010 - val_loss: 4.4603e-04\n",
      "Epoch 69/100\n",
      "142/142 [==============================] - 3s 20ms/step - loss: 9.7360e-04 - val_loss: 3.2151e-04\n",
      "Epoch 70/100\n",
      "142/142 [==============================] - 3s 22ms/step - loss: 0.0010 - val_loss: 4.0854e-04\n",
      "Epoch 71/100\n",
      "142/142 [==============================] - 4s 27ms/step - loss: 0.0010 - val_loss: 4.1447e-04\n",
      "Epoch 72/100\n",
      "142/142 [==============================] - 4s 29ms/step - loss: 0.0010 - val_loss: 3.7180e-04\n",
      "Epoch 73/100\n",
      "142/142 [==============================] - 4s 29ms/step - loss: 9.1603e-04 - val_loss: 3.9549e-04\n",
      "Epoch 74/100\n",
      "142/142 [==============================] - 4s 27ms/step - loss: 9.4795e-04 - val_loss: 4.2068e-04\n",
      "Epoch 75/100\n",
      "142/142 [==============================] - 4s 28ms/step - loss: 9.8815e-04 - val_loss: 3.0816e-04\n",
      "Epoch 76/100\n",
      "142/142 [==============================] - 3s 24ms/step - loss: 0.0011 - val_loss: 6.4199e-04\n",
      "Epoch 77/100\n",
      "142/142 [==============================] - 3s 20ms/step - loss: 9.9989e-04 - val_loss: 3.4332e-04\n",
      "Epoch 78/100\n",
      "142/142 [==============================] - 3s 21ms/step - loss: 9.0782e-04 - val_loss: 2.1448e-04\n",
      "Epoch 79/100\n",
      "142/142 [==============================] - 3s 21ms/step - loss: 0.0010 - val_loss: 7.3053e-04\n",
      "Epoch 80/100\n",
      "142/142 [==============================] - 3s 24ms/step - loss: 0.0010 - val_loss: 4.2234e-04\n",
      "Epoch 81/100\n",
      "142/142 [==============================] - 4s 27ms/step - loss: 0.0010 - val_loss: 7.5755e-04\n",
      "Epoch 82/100\n",
      "142/142 [==============================] - 3s 24ms/step - loss: 0.0010 - val_loss: 9.0600e-04\n",
      "Epoch 83/100\n",
      "142/142 [==============================] - 3s 20ms/step - loss: 0.0010 - val_loss: 4.0178e-04\n",
      "Epoch 84/100\n",
      "142/142 [==============================] - 3s 20ms/step - loss: 9.8599e-04 - val_loss: 8.2459e-04\n",
      "Epoch 85/100\n",
      "142/142 [==============================] - 4s 27ms/step - loss: 0.0010 - val_loss: 2.9470e-04\n",
      "Epoch 86/100\n",
      "142/142 [==============================] - 3s 21ms/step - loss: 9.7765e-04 - val_loss: 5.8511e-04\n",
      "Epoch 87/100\n",
      "142/142 [==============================] - 3s 21ms/step - loss: 9.3688e-04 - val_loss: 2.6043e-04\n",
      "Epoch 88/100\n",
      "142/142 [==============================] - 3s 23ms/step - loss: 9.8542e-04 - val_loss: 5.0754e-04\n",
      "Epoch 89/100\n",
      "142/142 [==============================] - 4s 31ms/step - loss: 0.0010 - val_loss: 4.7221e-04\n",
      "Epoch 90/100\n",
      "142/142 [==============================] - 3s 19ms/step - loss: 0.0011 - val_loss: 7.5768e-04\n",
      "Epoch 91/100\n",
      "142/142 [==============================] - 3s 18ms/step - loss: 9.5551e-04 - val_loss: 4.5476e-04\n",
      "Epoch 92/100\n",
      "142/142 [==============================] - 3s 18ms/step - loss: 9.2291e-04 - val_loss: 5.5346e-04\n",
      "Epoch 93/100\n",
      "142/142 [==============================] - 3s 18ms/step - loss: 0.0011 - val_loss: 3.3086e-04\n",
      "Epoch 94/100\n",
      "142/142 [==============================] - 3s 18ms/step - loss: 0.0010 - val_loss: 5.2590e-04\n",
      "Epoch 95/100\n",
      "142/142 [==============================] - 3s 20ms/step - loss: 9.6075e-04 - val_loss: 9.0258e-04\n",
      "Epoch 96/100\n",
      "142/142 [==============================] - 3s 23ms/step - loss: 9.9803e-04 - val_loss: 4.7170e-04\n",
      "Epoch 97/100\n",
      "142/142 [==============================] - 3s 18ms/step - loss: 9.5155e-04 - val_loss: 2.3511e-04\n",
      "Epoch 98/100\n",
      "142/142 [==============================] - 3s 18ms/step - loss: 9.8233e-04 - val_loss: 2.6015e-04\n",
      "Epoch 99/100\n",
      "142/142 [==============================] - 3s 19ms/step - loss: 9.8288e-04 - val_loss: 3.2614e-04\n",
      "Epoch 100/100\n",
      "142/142 [==============================] - 2s 17ms/step - loss: 0.0010 - val_loss: 4.6444e-04\n"
     ]
    },
    {
     "data": {
      "text/plain": [
       "<bound method Model.fit_generator of <keras.engine.sequential.Sequential object at 0x146d97b90>>"
      ]
     },
     "execution_count": 27,
     "metadata": {},
     "output_type": "execute_result"
    }
   ],
   "source": [
    "history = model.fit(trainX, trainY, epochs=100, batch_size=32, validation_split=0.2, verbose=1)\n",
    "model.fit_generator"
   ]
  },
  {
   "cell_type": "code",
   "execution_count": 28,
   "id": "f19b331b",
   "metadata": {},
   "outputs": [
    {
     "data": {
      "image/png": "[encoded data removed]",
      "text/plain": [
       "<Figure size 1200x800 with 1 Axes>"
      ]
     },
     "metadata": {},
     "output_type": "display_data"
    }
   ],
   "source": [
    "plt.plot(history.history['loss'], label='Training loss')\n",
    "plt.plot(history.history['val_loss'], label=\"Validation loss\")\n",
    "plt.legend()\n",
    "plt.show()"
   ]
  },
  {
   "cell_type": "code",
   "execution_count": null,
   "id": "a812166c",
   "metadata": {},
   "outputs": [],
   "source": []
  }
 ],
 "metadata": {
  "kernelspec": {
   "display_name": "Python 3 (ipykernel)",
   "language": "python",
   "name": "python3"
  },
  "language_info": {
   "codemirror_mode": {
    "name": "ipython",
    "version": 3
   },
   "file_extension": ".py",
   "mimetype": "text/x-python",
   "name": "python",
   "nbconvert_exporter": "python",
   "pygments_lexer": "ipython3",
   "version": "3.7.16"
  }
 },
 "nbformat": 4,
 "nbformat_minor": 5
}
